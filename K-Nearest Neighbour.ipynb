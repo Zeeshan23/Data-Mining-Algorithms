{
 "cells": [
  {
   "cell_type": "code",
   "execution_count": 22,
   "metadata": {},
   "outputs": [
    {
     "name": "stdout",
     "output_type": "stream",
     "text": [
      " Test\t\tAcidity\t\tStrength\tQuality\t\t   Distance\t\t\tRank\n",
      "Test 1 \t\t 7 \t\t 7 \t\t bad \t\t 2.23606797749979 \t\t 2\n",
      "Test 2 \t\t 7 \t\t 4 \t\t bad \t\t 1.4142135623730951 \t\t 1\n",
      "Test 3 \t\t 3 \t\t 4 \t\t good \t\t 3.1622776601683795 \t\t 3\n",
      "Test 4 \t\t 1 \t\t 4 \t\t good \t\t 5.0990195135927845 \t\t 4\n",
      "\n",
      "DATA\n",
      "Acidity =  6 \n",
      "Strength =  5 \n",
      "\n",
      "KNN 1  :  bad \tTEST 2\n",
      "KNN 2  :  bad \tTEST 1\n",
      "KNN 3  :  good \tTEST 3\n",
      "KNN 4  :  good \tTEST 4\n"
     ]
    }
   ],
   "source": [
    "import math\n",
    "f=open('KNN.csv','r')\n",
    "a=[]\n",
    "for i in f:\n",
    "    e=[i.strip('\\n').split(',')]\n",
    "    #print(e)\n",
    "    e[0][0]=int(e[0][0])\n",
    "    e[0][1]=int(e[0][1])\n",
    "    a.append(e[0])\n",
    "#print(a)\n",
    "#a=[[7,7,'bad'],[7,4,'bad'],[3,4,'good'],[1,4,'good']]\n",
    "data=[6,5]\n",
    "q=[]\n",
    "y=[]\n",
    "for i in range(len(a)):\n",
    "    q.append(int(math.sqrt(math.pow(a[i][0]-data[0],2)+math.pow(a[i][1]-data[1],2))))\n",
    "    y.append(math.sqrt(math.pow(a[i][0]-data[0],2)+math.pow(a[i][1]-data[1],2)))\n",
    "#print(q)\n",
    "r=q[:]\n",
    "m=0\n",
    "w=[0 for i in range(len(a))]\n",
    "for i in range(len(a)):\n",
    "    m=q.index(min(q))\n",
    "    w[m]=i+1\n",
    "    q[m]=10000000\n",
    "#print(w)\n",
    "print(\" Test\\t\\tAcidity\\t\\tStrength\\tQuality\\t\\t   Distance\\t\\t\\tRank\")\n",
    "for i in range(len(a)):\n",
    "    print(\"Test\",(i+1),\"\\t\\t\",a[i][0],\"\\t\\t\",a[i][1],\"\\t\\t\",a[i][2],\"\\t\\t\",y[i],\"\\t\\t\",w[i])\n",
    "print(\"\\nDATA\\nAcidity = \",data[0],\"\\nStrength = \",data[1],\"\\n\")\n",
    "for i in range(len(a)):\n",
    "    print(\"KNN\",(i+1),\" : \",a[w.index(i+1)][2],\"\\tTEST\",(w.index(i+1)+1))\n"
   ]
  }
 ],
 "metadata": {
  "kernelspec": {
   "display_name": "Python 3",
   "language": "python",
   "name": "python3"
  },
  "language_info": {
   "codemirror_mode": {
    "name": "ipython",
    "version": 3
   },
   "file_extension": ".py",
   "mimetype": "text/x-python",
   "name": "python",
   "nbconvert_exporter": "python",
   "pygments_lexer": "ipython3",
   "version": "3.7.0"
  }
 },
 "nbformat": 4,
 "nbformat_minor": 2
}
