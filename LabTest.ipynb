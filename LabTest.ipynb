{
 "cells": [
  {
   "cell_type": "code",
   "execution_count": 43,
   "metadata": {},
   "outputs": [],
   "source": [
    "import  re\n",
    "from nltk.corpus import stopwords\n",
    "from nltk.corpus import wordnet\n",
    "from nltk.tokenize import word_tokenize\n",
    "import unidecode\n",
    "import numpy as np \n",
    "import pandas as pd\n",
    "import sys  \n",
    "from importlib import reload\n",
    "\n",
    "\n",
    "review = pd.read_csv(\"Restaurant_Reviews.csv\",delimiter='\\t',header=None, names=['title', 'rating'])"
   ]
  },
  {
   "cell_type": "code",
   "execution_count": 44,
   "metadata": {},
   "outputs": [
    {
     "data": {
      "text/html": [
       "<div>\n",
       "<style scoped>\n",
       "    .dataframe tbody tr th:only-of-type {\n",
       "        vertical-align: middle;\n",
       "    }\n",
       "\n",
       "    .dataframe tbody tr th {\n",
       "        vertical-align: top;\n",
       "    }\n",
       "\n",
       "    .dataframe thead th {\n",
       "        text-align: right;\n",
       "    }\n",
       "</style>\n",
       "<table border=\"1\" class=\"dataframe\">\n",
       "  <thead>\n",
       "    <tr style=\"text-align: right;\">\n",
       "      <th></th>\n",
       "      <th>title</th>\n",
       "      <th>rating</th>\n",
       "    </tr>\n",
       "  </thead>\n",
       "  <tbody>\n",
       "    <tr>\n",
       "      <th>0</th>\n",
       "      <td>Loved it...friendly servers, great food, wonde...</td>\n",
       "      <td>NaN</td>\n",
       "    </tr>\n",
       "    <tr>\n",
       "      <th>1</th>\n",
       "      <td>The Heart Attack Grill in downtown Vegas is an...</td>\n",
       "      <td>NaN</td>\n",
       "    </tr>\n",
       "    <tr>\n",
       "      <th>2</th>\n",
       "      <td>Not much seafood and like 5 strings of pasta a...</td>\n",
       "      <td>NaN</td>\n",
       "    </tr>\n",
       "    <tr>\n",
       "      <th>3</th>\n",
       "      <td>The salad had just the right amount of sauce t...</td>\n",
       "      <td>NaN</td>\n",
       "    </tr>\n",
       "    <tr>\n",
       "      <th>4</th>\n",
       "      <td>The ripped banana was not only ripped, but pet...</td>\n",
       "      <td>NaN</td>\n",
       "    </tr>\n",
       "  </tbody>\n",
       "</table>\n",
       "</div>"
      ],
      "text/plain": [
       "                                               title  rating\n",
       "0  Loved it...friendly servers, great food, wonde...     NaN\n",
       "1  The Heart Attack Grill in downtown Vegas is an...     NaN\n",
       "2  Not much seafood and like 5 strings of pasta a...     NaN\n",
       "3  The salad had just the right amount of sauce t...     NaN\n",
       "4  The ripped banana was not only ripped, but pet...     NaN"
      ]
     },
     "execution_count": 44,
     "metadata": {},
     "output_type": "execute_result"
    }
   ],
   "source": [
    "review.head()"
   ]
  },
  {
   "cell_type": "code",
   "execution_count": 45,
   "metadata": {},
   "outputs": [
    {
     "name": "stdout",
     "output_type": "stream",
     "text": [
      "Requirement already satisfied: unidecode in c:\\users\\zeeshan khan\\anaconda3\\lib\\site-packages (1.0.23)\n"
     ]
    },
    {
     "name": "stderr",
     "output_type": "stream",
     "text": [
      "twisted 18.7.0 requires PyHamcrest>=1.9.0, which is not installed.\n",
      "You are using pip version 10.0.1, however version 18.1 is available.\n",
      "You should consider upgrading via the 'python -m pip install --upgrade pip' command.\n"
     ]
    }
   ],
   "source": [
    "!pip install unidecode"
   ]
  },
  {
   "cell_type": "code",
   "execution_count": 46,
   "metadata": {},
   "outputs": [
    {
     "name": "stdout",
     "output_type": "stream",
     "text": [
      "[nltk_data] Downloading package stopwords to C:\\Users\\Zeeshan\n",
      "[nltk_data]     Khan\\AppData\\Roaming\\nltk_data...\n",
      "[nltk_data]   Package stopwords is already up-to-date!\n",
      "[nltk_data] Downloading package wordnet to C:\\Users\\Zeeshan\n",
      "[nltk_data]     Khan\\AppData\\Roaming\\nltk_data...\n",
      "[nltk_data]   Package wordnet is already up-to-date!\n",
      "[nltk_data] Downloading package stopwords to C:\\Users\\Zeeshan\n",
      "[nltk_data]     Khan\\AppData\\Roaming\\nltk_data...\n",
      "[nltk_data]   Package stopwords is already up-to-date!\n",
      "[nltk_data] Downloading package punkt to C:\\Users\\Zeeshan\n",
      "[nltk_data]     Khan\\AppData\\Roaming\\nltk_data...\n",
      "[nltk_data]   Package punkt is already up-to-date!\n"
     ]
    },
    {
     "data": {
      "text/plain": [
       "True"
      ]
     },
     "execution_count": 46,
     "metadata": {},
     "output_type": "execute_result"
    }
   ],
   "source": [
    "import nltk\n",
    "nltk.download('stopwords')\n",
    "nltk.download('wordnet')\n",
    "nltk.download('stopwords')\n",
    "nltk.download('punkt')"
   ]
  },
  {
   "cell_type": "code",
   "execution_count": 47,
   "metadata": {},
   "outputs": [
    {
     "name": "stdout",
     "output_type": "stream",
     "text": [
      "loved itfriendly server great food wonderful imaginative menu\n",
      "heart attack grill downtown vega absolutely flatlined excuse restaurant\n",
      "much seafood like string pasta bottom\n",
      "salad right amount sauce power scallop perfectly cooked\n",
      "ripped banana ripped petrified tasteless\n",
      "least think refill water struggle wave minute\n",
      "place receives star appetizer\n",
      "cocktail handmade delicious\n",
      "wed definitely go back\n",
      "glad found place\n"
     ]
    }
   ],
   "source": [
    "all_df = pd.concat([review])\n",
    "all_df.reset_index(drop=True, inplace=True)\n",
    "\n",
    "titles = all_df['title'].get_values()\n",
    "ratings = all_df['rating'].get_values()\n",
    "\n",
    "clean_titles = []\n",
    "\n",
    "from nltk.stem import WordNetLemmatizer\n",
    "lemmatizer = WordNetLemmatizer()\n",
    "\n",
    "for title in titles:\n",
    "    clean = unidecode.unidecode(title)\n",
    "    clean = re.sub('[^a-zA-Z ]', '',clean)\n",
    "    clean = clean.lower()\n",
    "    clean = word_tokenize(clean)\n",
    "    temp = []\n",
    "    for word in clean:\n",
    "        if not word in stopwords.words('english'):\n",
    "            temp.append(lemmatizer.lemmatize(word))\n",
    "    clean_titles.append(temp)\n",
    "\n",
    "newcsv = []\n",
    "for i in clean_titles:\n",
    "    newcsv.append(\" \".join(i))\n",
    "for i in range(10):\n",
    "    print(newcsv[i])\n",
    "    \n",
    "    \n",
    "np.savetxt('Restaurant_Review.csv', [p for p in zip(newcsv,ratings)], delimiter=',', fmt='%s')"
   ]
  },
  {
   "cell_type": "code",
   "execution_count": 52,
   "metadata": {},
   "outputs": [
    {
     "name": "stdout",
     "output_type": "stream",
     "text": [
      "Index(['review', 'rating'], dtype='object')\n"
     ]
    },
    {
     "name": "stderr",
     "output_type": "stream",
     "text": [
      "C:\\Users\\Zeeshan Khan\\Anaconda3\\lib\\site-packages\\ipykernel_launcher.py:11: SettingWithCopyWarning: \n",
      "A value is trying to be set on a copy of a slice from a DataFrame\n",
      "\n",
      "See the caveats in the documentation: http://pandas.pydata.org/pandas-docs/stable/indexing.html#indexing-view-versus-copy\n",
      "  # This is added back by InteractiveShellApp.init_path()\n"
     ]
    },
    {
     "data": {
      "text/html": [
       "<div>\n",
       "<style scoped>\n",
       "    .dataframe tbody tr th:only-of-type {\n",
       "        vertical-align: middle;\n",
       "    }\n",
       "\n",
       "    .dataframe tbody tr th {\n",
       "        vertical-align: top;\n",
       "    }\n",
       "\n",
       "    .dataframe thead th {\n",
       "        text-align: right;\n",
       "    }\n",
       "</style>\n",
       "<table border=\"1\" class=\"dataframe\">\n",
       "  <thead>\n",
       "    <tr style=\"text-align: right;\">\n",
       "      <th></th>\n",
       "      <th>review</th>\n",
       "      <th>rating</th>\n",
       "    </tr>\n",
       "  </thead>\n",
       "  <tbody>\n",
       "    <tr>\n",
       "      <th>0</th>\n",
       "      <td>loved itfriendly server great food wonderful i...</td>\n",
       "      <td>NaN</td>\n",
       "    </tr>\n",
       "    <tr>\n",
       "      <th>1</th>\n",
       "      <td>heart attack grill downtown vega absolutely fl...</td>\n",
       "      <td>NaN</td>\n",
       "    </tr>\n",
       "    <tr>\n",
       "      <th>2</th>\n",
       "      <td>much seafood like string pasta bottom</td>\n",
       "      <td>NaN</td>\n",
       "    </tr>\n",
       "    <tr>\n",
       "      <th>3</th>\n",
       "      <td>salad right amount sauce power scallop perfect...</td>\n",
       "      <td>NaN</td>\n",
       "    </tr>\n",
       "    <tr>\n",
       "      <th>4</th>\n",
       "      <td>ripped banana ripped petrified tasteless</td>\n",
       "      <td>NaN</td>\n",
       "    </tr>\n",
       "    <tr>\n",
       "      <th>5</th>\n",
       "      <td>least think refill water struggle wave minute</td>\n",
       "      <td>NaN</td>\n",
       "    </tr>\n",
       "    <tr>\n",
       "      <th>6</th>\n",
       "      <td>place receives star appetizer</td>\n",
       "      <td>NaN</td>\n",
       "    </tr>\n",
       "    <tr>\n",
       "      <th>7</th>\n",
       "      <td>cocktail handmade delicious</td>\n",
       "      <td>NaN</td>\n",
       "    </tr>\n",
       "    <tr>\n",
       "      <th>8</th>\n",
       "      <td>wed definitely go back</td>\n",
       "      <td>NaN</td>\n",
       "    </tr>\n",
       "    <tr>\n",
       "      <th>9</th>\n",
       "      <td>glad found place</td>\n",
       "      <td>NaN</td>\n",
       "    </tr>\n",
       "  </tbody>\n",
       "</table>\n",
       "</div>"
      ],
      "text/plain": [
       "                                              review  rating\n",
       "0  loved itfriendly server great food wonderful i...     NaN\n",
       "1  heart attack grill downtown vega absolutely fl...     NaN\n",
       "2              much seafood like string pasta bottom     NaN\n",
       "3  salad right amount sauce power scallop perfect...     NaN\n",
       "4           ripped banana ripped petrified tasteless     NaN\n",
       "5      least think refill water struggle wave minute     NaN\n",
       "6                      place receives star appetizer     NaN\n",
       "7                        cocktail handmade delicious     NaN\n",
       "8                             wed definitely go back     NaN\n",
       "9                                   glad found place     NaN"
      ]
     },
     "execution_count": 52,
     "metadata": {},
     "output_type": "execute_result"
    }
   ],
   "source": [
    "data = pd.read_csv(\"Restaurant_Review.csv\",header=None, names=['review', 'rating'])\n",
    "data.head(10)\n",
    "\n",
    "\n",
    "print(data.columns)\n",
    "\n",
    "data.head(10)\n",
    "\n",
    "a=len(data)\n",
    "for f in range(a):\n",
    "    data.review[f]=data.review[f].lower()\n",
    "    \n",
    "data.head(10)"
   ]
  },
  {
   "cell_type": "code",
   "execution_count": 53,
   "metadata": {},
   "outputs": [
    {
     "data": {
      "text/html": [
       "<div>\n",
       "<style scoped>\n",
       "    .dataframe tbody tr th:only-of-type {\n",
       "        vertical-align: middle;\n",
       "    }\n",
       "\n",
       "    .dataframe tbody tr th {\n",
       "        vertical-align: top;\n",
       "    }\n",
       "\n",
       "    .dataframe thead th {\n",
       "        text-align: right;\n",
       "    }\n",
       "</style>\n",
       "<table border=\"1\" class=\"dataframe\">\n",
       "  <thead>\n",
       "    <tr style=\"text-align: right;\">\n",
       "      <th></th>\n",
       "      <th>0</th>\n",
       "    </tr>\n",
       "  </thead>\n",
       "  <tbody>\n",
       "    <tr>\n",
       "      <th>0</th>\n",
       "      <td>affirmation</td>\n",
       "    </tr>\n",
       "    <tr>\n",
       "      <th>1</th>\n",
       "      <td>affirmative</td>\n",
       "    </tr>\n",
       "    <tr>\n",
       "      <th>2</th>\n",
       "      <td>affluence</td>\n",
       "    </tr>\n",
       "    <tr>\n",
       "      <th>3</th>\n",
       "      <td>affluent</td>\n",
       "    </tr>\n",
       "    <tr>\n",
       "      <th>4</th>\n",
       "      <td>afford</td>\n",
       "    </tr>\n",
       "    <tr>\n",
       "      <th>5</th>\n",
       "      <td>affordable</td>\n",
       "    </tr>\n",
       "    <tr>\n",
       "      <th>6</th>\n",
       "      <td>affordably</td>\n",
       "    </tr>\n",
       "    <tr>\n",
       "      <th>7</th>\n",
       "      <td>afordable</td>\n",
       "    </tr>\n",
       "    <tr>\n",
       "      <th>8</th>\n",
       "      <td>agile</td>\n",
       "    </tr>\n",
       "    <tr>\n",
       "      <th>9</th>\n",
       "      <td>agilely</td>\n",
       "    </tr>\n",
       "  </tbody>\n",
       "</table>\n",
       "</div>"
      ],
      "text/plain": [
       "             0\n",
       "0  affirmation\n",
       "1  affirmative\n",
       "2    affluence\n",
       "3     affluent\n",
       "4       afford\n",
       "5   affordable\n",
       "6   affordably\n",
       "7    afordable\n",
       "8        agile\n",
       "9      agilely"
      ]
     },
     "execution_count": 53,
     "metadata": {},
     "output_type": "execute_result"
    }
   ],
   "source": [
    "positive_data = pd.read_csv('positive-words.txt', sep=\"\\t\", header = None)\n",
    "positive_data.head(10)"
   ]
  },
  {
   "cell_type": "code",
   "execution_count": 54,
   "metadata": {},
   "outputs": [
    {
     "name": "stderr",
     "output_type": "stream",
     "text": [
      "C:\\Users\\Zeeshan Khan\\Anaconda3\\lib\\site-packages\\ipykernel_launcher.py:10: SettingWithCopyWarning: \n",
      "A value is trying to be set on a copy of a slice from a DataFrame\n",
      "\n",
      "See the caveats in the documentation: http://pandas.pydata.org/pandas-docs/stable/indexing.html#indexing-view-versus-copy\n",
      "  # Remove the CWD from sys.path while we load stuff.\n"
     ]
    }
   ],
   "source": [
    "import re\n",
    "data['positive'] =1\n",
    "for f in range(a):\n",
    "    count=0\n",
    "    words=re.split('\\s+',data.review[f])\n",
    "    for x in words:\n",
    "          for pos_word in positive_data[0]:\n",
    "                if x==pos_word:\n",
    "                    count=count+1\n",
    "    data.positive[f]=count"
   ]
  },
  {
   "cell_type": "code",
   "execution_count": 67,
   "metadata": {},
   "outputs": [
    {
     "data": {
      "text/html": [
       "<div>\n",
       "<style scoped>\n",
       "    .dataframe tbody tr th:only-of-type {\n",
       "        vertical-align: middle;\n",
       "    }\n",
       "\n",
       "    .dataframe tbody tr th {\n",
       "        vertical-align: top;\n",
       "    }\n",
       "\n",
       "    .dataframe thead th {\n",
       "        text-align: right;\n",
       "    }\n",
       "</style>\n",
       "<table border=\"1\" class=\"dataframe\">\n",
       "  <thead>\n",
       "    <tr style=\"text-align: right;\">\n",
       "      <th></th>\n",
       "      <th>review</th>\n",
       "      <th>rating</th>\n",
       "      <th>positive</th>\n",
       "    </tr>\n",
       "  </thead>\n",
       "  <tbody>\n",
       "    <tr>\n",
       "      <th>0</th>\n",
       "      <td>loved itfriendly server great food wonderful i...</td>\n",
       "      <td>1</td>\n",
       "      <td>4</td>\n",
       "    </tr>\n",
       "    <tr>\n",
       "      <th>1</th>\n",
       "      <td>heart attack grill downtown vega absolutely fl...</td>\n",
       "      <td>0</td>\n",
       "      <td>0</td>\n",
       "    </tr>\n",
       "    <tr>\n",
       "      <th>2</th>\n",
       "      <td>much seafood like string pasta bottom</td>\n",
       "      <td>0</td>\n",
       "      <td>1</td>\n",
       "    </tr>\n",
       "    <tr>\n",
       "      <th>3</th>\n",
       "      <td>salad right amount sauce power scallop perfect...</td>\n",
       "      <td>1</td>\n",
       "      <td>2</td>\n",
       "    </tr>\n",
       "    <tr>\n",
       "      <th>4</th>\n",
       "      <td>ripped banana ripped petrified tasteless</td>\n",
       "      <td>0</td>\n",
       "      <td>0</td>\n",
       "    </tr>\n",
       "    <tr>\n",
       "      <th>5</th>\n",
       "      <td>least think refill water struggle wave minute</td>\n",
       "      <td>0</td>\n",
       "      <td>0</td>\n",
       "    </tr>\n",
       "    <tr>\n",
       "      <th>6</th>\n",
       "      <td>place receives star appetizer</td>\n",
       "      <td>1</td>\n",
       "      <td>0</td>\n",
       "    </tr>\n",
       "    <tr>\n",
       "      <th>7</th>\n",
       "      <td>cocktail handmade delicious</td>\n",
       "      <td>1</td>\n",
       "      <td>1</td>\n",
       "    </tr>\n",
       "    <tr>\n",
       "      <th>8</th>\n",
       "      <td>wed definitely go back</td>\n",
       "      <td>1</td>\n",
       "      <td>0</td>\n",
       "    </tr>\n",
       "    <tr>\n",
       "      <th>9</th>\n",
       "      <td>glad found place</td>\n",
       "      <td>1</td>\n",
       "      <td>1</td>\n",
       "    </tr>\n",
       "  </tbody>\n",
       "</table>\n",
       "</div>"
      ],
      "text/plain": [
       "                                              review rating  positive\n",
       "0  loved itfriendly server great food wonderful i...      1         4\n",
       "1  heart attack grill downtown vega absolutely fl...      0         0\n",
       "2              much seafood like string pasta bottom      0         1\n",
       "3  salad right amount sauce power scallop perfect...      1         2\n",
       "4           ripped banana ripped petrified tasteless      0         0\n",
       "5      least think refill water struggle wave minute      0         0\n",
       "6                      place receives star appetizer      1         0\n",
       "7                        cocktail handmade delicious      1         1\n",
       "8                             wed definitely go back      1         0\n",
       "9                                   glad found place      1         1"
      ]
     },
     "execution_count": 67,
     "metadata": {},
     "output_type": "execute_result"
    }
   ],
   "source": [
    "data2=pd.read_csv(\"Rating.csv\",header=None, names=['review', 'rating'])\n",
    "data2.head(5)\n",
    "data.rating = data2.rating\n",
    "data.head(10)"
   ]
  },
  {
   "cell_type": "code",
   "execution_count": 72,
   "metadata": {},
   "outputs": [
    {
     "name": "stdout",
     "output_type": "stream",
     "text": [
      "['bamboo_shoot', 'collard_greens', 'soya', 'fresh_bean', 'cold_cuts', 'melon', 'litchee', 'fillet_of_sole', 'edible_bean', 'molasses_cookie', 'blood_sausage', 'garlic_bread', 'sea_bass', 'hardtack', 'sea_scallop', 'ruggelach', 'Kentucky_wonder_bean', 'white_bread', 'breakfast_food', 'pepperoni', 'natal_plum', 'fries', 'fennel', 'seed_cake', 'cracked-wheat_bread', 'Spanish_onion', 'Atlantic_salmon', 'ham', 'round_clam', 'soft-shelled_crab', 'spud', 'bacon', 'carrot', 'taro', 'plum_tomato', 'soft_roll', 'dark_chocolate', 'persimmon', 'mush', 'delicatessen_food', 'naan', 'timbale', 'poultry', 'taro_root', 'roll', 'flitch', 'cake_mix', 'bagel', 'beef_tongue', 'edda', 'ecrevisse', 'stick', 'eating_apple', 'french_fries', 'brown_butter', 'Boston_cream_pie', 'muesli', 'angel_food_cake', 'slipskin_grape', 'peach', 'Swedish_rye', 'bosc', 'lamb_roast', 'chocolate_candy', 'aubergine', 'pattypan_squash', 'hamburger_bun', 'chinook_salmon', 'akee', 'tortilla', 'honeycomb_tripe', 'refrigerator_cookie', 'griddlecake', 'anchovy_pear', 'sweetsop', 'jackfruit', 'soda_cracker', 'quahaug', 'sourdough_bread', 'cherry', 'turnip_greens', 'cherrystone_clam', 'snapper', 'wild_spinach', 'crape', 'soy', 'date', 'beurre_noisette', 'joint', 'sweet_roll', 'tunny', 'ribier', 'cocozelle', 'nan', 'semi-sweet_chocolate', 'pork', 'kipper', 'Gouda', 'elderberry', 'spatchcock', 'coconut_macaroon', 'processed_cheese', 'bun', 'dumpling', 'sea_squab', 'entrecote', 'courgette', 'black_currant', 'black_cherry', 'chilli', 'brain', 'brussels_sprouts', 'Valencia_orange', 'buckwheat_cake', 'genoise', 'filet_mignon', 'haddock', 'Fordhooks', 'Pearmain', 'gingersnap', 'string_bean', 'bluepoint', 'bully_beef', \"poitrine_d'agneau\", 'strawberry', 'Emmental', 'dried_apricot', 'Oven_Stuffer_Roaster', 'quark_cheese', 'takeout', 'lowbush_cranberry', 'layer_cake', 'bluefin', 'kippered_salmon', 'porterhouse_steak', 'sorb_apple', 'raisin', 'Danish_blue', 'romaine_lettuce', 'ravioli', 'cream_puff', 'rabbit_food', 'lobster_tail', 'Jewish_rye', 'undercut', 'Cortland', 'biltong', 'cabbage', 'rugelach', 'Northern_Spy', 'linguini', 'fresh_food', 'acorn_squash', 'chili', 'tater', 'yellow_mombin', 'mustard_greens', 'porc', 'freestone', 'leafy_vegetable', 'Alaska_crab', 'celeriac', 'teaberry', 'jimmies', 'linguine', 'saltwater_fish', 'cochon_de_lait', 'french-fried_potatoes', 'spring_onion', 'tuna_fish', 'sugar_pea', 'oyster', 'cinnamon_toast', 'giblets', 'lasagne', 'sweet_pepper', 'brick_cheese', 'cherimolla', 'onion_bread', 'quail', 'timbale_case', 'mandarin_orange', 'morello', 'oyster_cracker', 'leaf_mustard', 'caviare', 'scrag_end', 'gumbo', 'oreo_cookie', 'mouton', 'boeuf', 'sparerib', 'beef', 'shortbread_cookie', 'witloof', 'potato', 'chuck_short_ribs', 'European_blueberry', 'chorizo', 'Indian_mustard', 'prawn', 'smoked_herring', 'rollmops', 'blade_apple', 'gooseberry', 'yellowtail_flounder', 'alligator_pear', 'rum_baba', 'rack_of_lamb', 'junk_food', 'sparling', 'herring', 'stockfish', 'lanseh', 'tamarindo', 'barmbrack', 'rose_apple', 'marrow', 'yellow_squash', 'matzah', 'profiterole', 'oxheart_cherry', 'spiny_lobster', 'rib', 'lime', 'lemon_butter', 'julienne', 'buttercup_squash', 'veal_roast', 'lox', 'winter_melon', 'celery_root', 'white_cake', 'sockeye', 'whortleberry', 'Scotch_pancake', 'cantaloupe', 'river_pear', 'muskmelon', 'Boston_lettuce', 'upside-down_cake', 'dika_bread', 'pie_crust', 'muscat_grape', 'greengage', 'white_potato', 'pompano', 'T-bone_steak', 'hand_cheese', 'tongue', 'sand_dab', 'julienne_vegetable', 'rockfish', 'gem', 'smoked_mackerel', 'coho_salmon', 'sugar_loaf', 'yellow_granadilla', 'bliny', 'blade_roast', 'bitter_chocolate', 'pickerel', 'Emmentaler', 'dasheen', 'side_of_bacon', 'wheatflake', 'lemon', 'seeded_raisin', 'skillet_cake', 'cold_cereal', 'garbanzo', 'apple_tart', 'finnan_haddock', 'cake', 'baked_potato', 'prune', 'dove', 'loaf_sugar', 'rabbit', 'squash_pie', 'clover-leaf_roll', 'shaddock', 'citron', 'leg_of_lamb', 'chicory', 'macaroon', 'cocoa_powder', 'raised_doughnut', 'tuna', 'string_cheese', 'bowtie_pasta', 'shad_roe', 'whitefish', 'rhubarb_pie', 'picnic_ham', 'sapota', 'veg', 'coral', 'guinea_hen', 'saddle_of_lamb', 'milk_chocolate', 'mad_apple', 'rump_roast', 'beach_plum', 'partridge', 'grape', 'onion_roll', 'croissant', 'pilchard', 'sole', 'quandong', 'gray_mullet', 'mozzarella', 'swordfish', 'Vienna_sausage', 'Chateaubriand', 'shoofly_pie', 'melon_ball', 'petit_four', 'loquat', 'breadstuff', 'lamb_chop', 'cookie', 'pulassan', 'Barbados_gooseberry', 'sapodilla', 'whole_wheat_bread', 'endive', 'round', 'wedding_cake', 'cauliflower', 'sausage_roll', 'grissino', 'zwieback', 'sugarloaf', 'legume', 'fastnacht', 'Emmenthal', 'cisco', 'cobbler', 'copra', 'Jamaica_apple', 'hotcake', 'date-nut_bread', 'spareribs', 'liver', 'Bibb_lettuce', 'cracker', 'sweetbreads', 'chopped_steak', 'soft_pretzel', 'variety_meat', 'tortellini', 'pigeon_pea', 'coffee_cake', 'collards', 'pancake', 'Chinese_jujube', 'watermelon', 'green', 'greengage_plum', 'cruciferous_vegetable', 'tea_bread', 'mangel-wurzel', 'green_goods', 'litchi_nut', 'truffle', 'feijoa', 'fresh_foods', 'ugli_fruit', 'pfannkuchen', 'hare', 'blintze', 'Stayman', 'soybean', 'Melba_toast', 'beef_neck', 'rainbow_smelt', 'Stilton', 'spinach', 'boysenberry', 'chitterlings', 'chop-suey_greens', 'porkchop', 'cucumber', 'tripe', 'longanberry', \"shepherd's_pie\", 'swede', 'cos', 'goat_cheese', 'orange', 'Bermuda_onion', 'stone_crab', 'haricot_vert', 'Armerican_cheddar', 'sloe', 'Belgian_endive', 'blue_point', 'runner_bean', 'Chinese_celery', 'freshwater_fish', 'fortune_cookie', 'red_snapper', 'sockeye_salmon', 'kale', 'elver', 'simnel', 'frankfurter', 'eggplant', 'fish_steak', 'roast_veal', 'flatbread', 'gateau', 'crawdad', 'pumpkin', 'bean_sprout', 'patty', 'Chinese_cabbage', 'salt-rising_bread', 'tartlet', 'swedish_turnip', 'steak', 'coconut', 'Cheshire_cheese', 'redfish', 'chicory_escarole', 'clementine', 'mombin', 'wintergreen', 'beefsteak', 'monkey_bread', 'raisin_bread', 'quark', 'soya_bean', 'mushroom', 'pin_bone', 'jujube', 'breast_of_veal', 'bismark', 'mustard', 'escargot', 'fricandeau', 'long-neck_clam', 'English_runner_bean', 'german_pancake', 'celtuce', 'custard_apple', 'sugar_beet', 'passion_fruit', 'bacon_strip', 'sardine', 'Tokay', 'nutmeg_melon', 'eclair', 'pitahaya', 'durian', 'water_lemon', 'volaille', 'sour_cherry', 'beef_patty', 'summer_crookneck', 'apricot_bar', 'flounder', 'king_crab', 'bannock', 'roast_pork', 'scone', 'steamer', 'white_chocolate', 'seedless_raisin', 'littleneck_clam', 'yak_butter', 'pascal_celery', 'bilberry', 'pomegranate', 'bear_paw', 'citrus', 'hamburger_steak', 'fillet', 'sultana', 'Bologna_sausage', 'granadilla', 'husk_tomato', 'shoulder', 'casaba_melon', 'kitambilla', 'cowpea', 'mandarin', 'Uruguay_potato', 'Twinkie', 'health_food', 'mostaccioli', \"bullock's_heart\", \"calves'_feet\", 'suckling_pig', 'loin', 'saddle', 'cooky', 'beefsteak_tomato', 'frangipane', 'loose-leaf_lettuce', 'sowbelly', 'bran_flake', 'bleu', 'yoghourt', 'brown_bread', 'fava_bean', 'lobster', 'yam', 'broad_bean', 'field_soybean', 'pullet', 'home_fries', 'garden_pea', 'johnny_cake', 'salmon_trout', 'Oven_Stuffer', 'flapcake', 'shank', 'jellyroll', 'pulse', 'manicotti', 'porgy', 'mammee', 'cherrystone', 'juneberry', 'marang', 'freshwater_bass', 'twice-baked_bread', 'minute_steak', 'honeydew', 'New_York_strip', 'kidney_pie', 'hake', 'Seville_orange', 'rutabaga', 'chocolate_cake', 'dandelion_green', 'skillet_bread', 'muffin', 'lasagna', 'crabapple', 'onion', 'tart', 'cross_bun', 'cheese', 'coco_plum', 'drawn_butter', 'pork_sausage', 'honey_bun', 'muscatel', 'takeaway', 'lingonberry', \"farmer's_cheese\", 'chickpea', 'marrowfat_pea', 'green_onion', 'wild_plum', 'blintz', 'quiche_Lorraine', 'sweet_cherry', 'doughboy', 'takeout_food', 'lychee', 'brisket', 'sprat', 'whiting', 'chocolate_chip_cookie', 'picnic_shoulder', 'beigel', 'corn_muffin', 'popover', 'jumble', 'meatloaf', 'dark_bread', 'wienerwurst', 'crabmeat', 'crown_roast', 'loin_of_lamb', 'tenderloin', 'scallop', 'river_prawn', 'scrag', 'puffed_wheat', 'flageolet', 'cayenne', 'crab', 'double_Gloucester', 'temple_orange', 'kaiser_roll', 'yoghurt', 'cupcake', 'Macoun', 'veau', 'quince', 'Dungeness_crab', 'lobster_tart', 'grey_sole', 'puffed_rice', 'scampo', 'kidney_bean', 'cushaw', 'Japanese_crab', 'Belgian_waffle', 'flannel_cake', 'meat_pie', 'catfish', 'savoy', 'halal', 'nectarine', 'Swiss_roll', 'goose_liver', 'broccoli_rabe', 'cheddar_cheese', 'liverwurst', 'cooking_apple', 'jacket_potato', 'meat_loaf', 'double_cream', 'quiche', 'chocolate_eclair', 'turnip_cabbage', 'Paschal_celery', 'bing_cherry', 'lichi', 'ready-mix', 'coffee_ring', 'latke', 'summer_squash', 'corn_dodger', 'litchi', 'blue_cheese', 'pemican', 'crookneck', 'cocoa_plum', 'pineapple', 'hindquarter', 'scollop', 'anjou', 'babka', 'grapefruit', 'strudel', 'Nova_salmon', 'rambotan', 'garden_cress', 'Jonathan', 'albacore', 'Limburger', 'kingfish', 'raisin_cookie', 'muskellunge', 'Host', 'anadama_bread', 'sprinkles', 'chocolate_bar', 'smallmouth_bass', 'crepe', 'tourtiere', 'windfall', 'dewberry', 'buffalo', 'corned_beef', 'red_rockfish', 'hot_dog', \"Cox's_Orange_Pippin\", 'penne', 'potherb', 'speckled_trout', \"Grimes'_golden\", 'Northern_lobster', 'spiceberry', 'bitter_orange', 'pike', 'kiwi_fruit', 'globe_artichoke', 'lemon_meringue_pie', 'Winesap', 'Jaffa_orange', 'leechee', 'Gruyere', 'salmon', 'celery_cabbage', 'pumpernickel', 'farm_cheese', 'broccoli', 'duck', 'napoleon', 'white_bean', 'pickled_herring', 'jerk', 'Chinese_gooseberry', 'pimento', 'polony', 'ricotta', 'pollack', 'pork_pie', 'loaf', 'panfish', 'club_steak', 'corn_beef', 'goose', 'fish', 'cole', 'mackerel', 'ratafia_biscuit', 'light_bread', 'cantaloup', 'sirloin_steak', 'Pippin', 'sweet_calabash', 'horsemeat', 'netted_melon', 'pound_cake', 'raw_meat', 'raisin_bran', 'gigot', 'pork_belly', 'bear_claw', 'hamburger_roll', 'chinook', 'leek', 'crab_apple', 'organs', 'sapodilla_plum', 'French_endive', 'plaice', 'greens', 'Delicious', 'Nova_lox', 'rack', 'saskatoon', 'Granny_Smith', 'coconut_cake', 'chapati', 'Pablum', 'veggie', 'carbonado', 'cohoe', 'monstera', 'apple_pie', 'chocolate_kiss', 'lemon_sole', 'hot_cake', 'corn_flake', 'gobbet', 'Edam', 'bullace_grape', 'rib_roast', 'hog_plum', 'orzo', 'tomalley', 'headcheese', 'prickly_pear', 'sorb', 'muscadine', 'spinach_beet', 'cut_of_beef', 'rosefish', 'wiener', 'potato_pancake', 'sugarberry', 'flank', 'ship_biscuit', 'tomato', 'quick_bread', 'frumenty', 'shadberry', 'sea_biscuit', 'lentil', 'Dutch-processed_cocoa', 'net_melon', 'huitre', 'trout', 'cut_of_pork', 'fowl', 'monkfish', 'scallion', 'Madeira_cake', 'fettuccini', 'sinker', 'orange_toast', 'dowdy', 'sunfish', 'Madeira_sponge', 'carambola', 'sirloin', 'genipap_fruit', 'lake_trout', 'acerola', 'Gouda_cheese', 'fettuccine_Alfredo', 'danish_pastry', 'yellow_turnip', 'pear', 'asparagus', 'fruit_bar', 'blood_pudding', 'onion_bagel', 'meat', 'Alaskan_king_crab', 'baking_chocolate', 'French_fritter', 'kiwi', 'ziti', 'chuck', 'ginger_snap', 'cheddar', 'raspberry', 'tournedos', 'globe_pepper', 'garden_truck', 'Velveeta', 'blueberry', 'poulet', 'Virginia_ham', 'raisin-nut_cookie', 'green_pepper', 'carp', 'pot_roast', 'soft_roe', 'frozen_yogurt', 'scrod', 'Prima', 'chard', 'crookneck_squash', 'pecan_pie', 'mountain_cranberry', 'Cornish_pasty', 'flannel-cake', \"calf's_liver\", 'mutton', 'French_bread', 'matzoh_ball', 'seafood', 'jaboticaba', 'annon', 'cuke', 'apple_fritter', 'rolled_biscuit', 'Muenster', 'bell_apple', 'ratafia', 'drop_biscuit', 'French_bean', 'veal', 'unleavened_bread', 'European_lobster', 'rugulah', 'scorzonera', 'corn_dab', 'strip_steak', 'confit', 'butterfish', 'farfalle', 'won_ton', 'mussel', 'pumpkin_pie', 'periwinkle', 'surinam_cherry', 'goa_bean', 'American_cheese', 'donut', 'cream_cheese', 'artichoke_heart', 'luncheon_meat', 'bittersweet_chocolate', 'smelt', 'rock_cake', 'cling', 'porterhouse', 'langoustine', 'kohlrabi', 'liver_sausage', 'Nova_style_salmon', 'gingerbread_man', 'choc', 'kitembilla', 'muscat', 'lansa', 'gingerbread', 'pond_apple', 'blackheart_cherry', 'loganberry', 'macaroni', 'granola', 'rye_bread', 'chili_pepper', 'triple_creme', 'baklava', 'langouste', 'sapote', 'soft-shell_crab', 'rainbow_trout', 'mangosteen', 'chapatti', 'baba', 'Parmesan', 'black_bread', 'pie_shell', 'barbados_cherry', 'toad-in-the-hole', 'butter_cookie', 'Jerusalem_artichoke', 'rock_lobster', 'rusk', 'buttermilk_pancake', 'gluten_bread', 'smoked_salmon', 'cut_of_mutton', 'plate', 'fig', 'fish_loaf', 'plumcot', 'matzoh', 'whitebait', 'lanset', 'fox_grape', 'produce', \"devil's_food\", 'kail', 'red_herring', 'snail', 'shortbread', 'apple', 'turnip', 'chilly', 'drop_scone', 'Christmas_cake', 'bass', 'calamary', 'bartlett', 'scarlet_runner', 'silver_salmon', 'sugar_cookie', 'head_cabbage', 'ocean_perch', 'turbot', 'Irish_soda_bread', 'crisphead_lettuce', 'beluga_caviar', 'chicken', 'jumbal', 'Golden_Delicious', 'dog_biscuit', 'Vienna_roll', 'mahimahi', 'loaf_of_bread', 'bartlett_pear', 'scarlet_runner_bean', 'tagliatelle', 'frank', 'Delmonico_steak', 'almond_cookie', 'tangerine', \"devil's_food_cake\", 'dark_meat', 'roast_beef', 'dolphinfish', 'salsify', 'gammon', 'game', 'pemmican', 'green_bean', 'bialystoker', 'cornbread', 'garambulla', 'beignet', 'buffalofish', 'blade', 'top_round', 'chevre', 'bratwurst', 'clingstone', 'cinnamon_snail', 'coconut_meat', 'puffer', 'crab_legs', 'haricot', 'star_fruit', 'sea_bream', 'red_currant', 'Yellow_Delicious', 'hard_roll', 'shrimp', 'jak', 'schrod', 'flatfish', 'flat_bone', 'beef_loin', 'pinto_bean', 'zucchini', 'winter_flounder', 'kumquat', 'capon', 'matzah_ball', 'waffle', 'wafer', 'halibut', 'bologna', 'tea_biscuit', 'chocolate', 'hindshank', 'home-fried_potatoes', 'ground_beef', 'guava', 'chop', 'pollock', 'blueberry_yogurt', 'English_muffin', 'birthday_cake', 'chocolate_liquor', 'solanaceous_vegetable', 'oatmeal_cookie', 'Meuniere_butter', 'breadstick', 'genip', 'saveloy', 'ham_hock', 'toast', 'romaine', 'sponge_cake', 'checkerberry', 'Camembert', 'shad', 'French_pastry', 'apricot', 'turtle_bean', 'West_Indian_cherry', 'bottom_round', 'fettuccine', 'chitlins', 'bok_choi', 'salad_green', 'pheasant', 'yellow_bean', 'jalapeno', 'limpet', 'cereal', 'hamburger', 'danish', 'beet_green', 'vol-au-vent', 'Scandinavian_lox', 'roaster', 'soursop', 'cajan_pea', 'satsuma', 'chicken_liver', 'matzo', 'brownie', 'American_smelt', 'citrange', 'venison', 'Swiss_chard', 'huckleberry', 'sorrel', 'buttermilk_biscuit', 'pigweed', 'carissa_plum', 'yogurt', 'ashcake', 'French_pancake', 'gray_sole', 'striped_bass', 'pufferfish', 'finnan_haddie', 'spaghettini', 'baked_goods', 'johnnycake', 'kippered_herring', 'bird', 'throat_sweetbread', 'spice_cake', 'watercress', 'Nova_Scotia_salmon', 'squash', 'lettuce', 'common_bean', 'corn_fritter', 'pawpaw', 'escallop', 'haslet', 'crumb_cake', 'cranberry', 'water_biscuit', 'egg_noodle', 'liver_pudding', 'broccoli_raab', 'pone', 'filet', 'vinifera_grape', 'escarole', 'Boston_brown_bread', 'neck_sweetbread', 'butter_bean', 'blowfish', 'bran_muffin', 'green_groceries', 'cut_of_veal', 'chine', 'scuppernong', 'ladyfinger', 'pepper', 'octopus', \"pigs'_knuckles\", 'skillet_corn_bread', 'frijole', 'giblet', 'king_salmon', 'side_of_meat', 'beet', 'Jewish_rye_bread', 'ginger_nut', 'tamarind', 'alfalfa_sprout', 'bialy', 'perch', 'cappelletti', 'duckling', 'weakfish', 'pork_tenderloin', 'raw_vegetable', 'spaghetti', 'salami', 'mamey', 'hoecake', 'Kentucky_wonder', 'flapjack', 'red_salmon', 'Swiss_cheese', 'cocoyam', 'Chinese_date', 'convenience_food', 'French_sorrel', 'baguette', 'cherry_tomato', 'cooking_chocolate', 'graham_bread', 'leaf_lettuce', 'pita', 'pinwheel_roll', 'Irish_potato', 'cress', 'Italian_bread', 'clarified_butter', 'genipap', 'Rome_Beauty', 'beef_tenderloin', 'pimiento', 'Swedish_rye_bread', 'Bavarian_blue', 'guanabana', 'limpa', 'quahog', 'marmalade_plum', 'sapsago', 'bean', 'blackheart', 'couscous', \"Bramley's_Seedling\", 'sprout', 'avocado_pear', 'radicchio', 'wonton', 'fedelline', 'weenie', 'shin', 'snap_bean', 'doughnut', 'cod', 'Liederkranz', 'couverture', 'avocado', 'croaker', 'seckel', 'chips', 'horseflesh', 'short_ribs', 'round_steak', 'ilama', 'grouse', 'shellfish', 'baba_au_rhum', 'pot_cheese', 'dog', 'haricots_verts', 'deep-dish_pie', 'pasta', 'stew_meat', 'Red_Delicious', 'date_bar', 'sweet_melon', 'Roquefort', 'chipolata', 'cherimoya', 'anise_cookie', 'bridecake', 'crumpet', 'rat_cheese', 'whelk', 'split-pea', 'Empire', 'foreshank', 'mashed_potato', 'cornmeal_mush', 'eggfruit', 'citrous_fruit', 'flank_steak', 'chitlings', 'alimentary_paste', 'Florence_fennel', 'sour_bread', 'black-eyed_pea', 'grey_mullet', 'edible_fruit', 'canistel', 'casaba', 'cut_of_lamb', 'Norwegian_lobster', 'tabasco', 'European_smelt', 'bok_choy', 'pastry', 'side_of_pork', 'native_peach', 'caramel_bun', 'finnan', 'quandang', 'honeydew_melon', 'jerky', 'matzo_ball', 'stomach_sweetbread', 'crepe_Suzette', 'rock_salmon', 'murphy', 'lansat', 'mince_pie', 'lamb-chop', 'mango', 'nut_bread', 'sweet_orange', 'tostada', 'crouton', 'teacake', \"calves'_liver\", 'gnocchi', 'black_bean', 'Maine_lobster', 'lemonade_mix', 'lunch_meat', 'honey_cake', 'sea_trout', 'broiler', 'friedcake', 'field_pea', 'sirloin_tip', 'seedcake', 'leaf_beet', 'tangelo', 'streusel', 'Concord_grape', 'hot_cross_bun', 'atole', 'fatback', 'cardoon', 'damson_plum', 'butterbean', 'graham_cracker', 'chiffon_cake', 'purple_onion', 'TV_dinner', 'fugu', 'eel', 'cut_of_meat', 'pastrami', 'Victoria_sandwich', 'corn_tash', 'pea', 'ananas', 'emperor', 'batter_bread', 'soda_biscuit', 'snap', 'green_soybean', 'pocket_bread', 'smoked_haddock', 'grouper', 'hard_roe', 'ackee', 'hubbard_squash', 'milt', 'bouchee', 'lichee', 'citrus_fruit', 'hot_cereal', 'heart', 'baking-powder_biscuit', 'sunchoke', 'calamari', 'celery', 'littleneck', 'freshwater_bream', 'anchovy', 'Yorkshire_pudding', 'soft-shell_clam', 'prosciutto', 'papaya', 'date_bread', 'butternut_squash', 'crappie', 'hominy_grits', 'Hershey_bar', 'patty_shell', 'pie', 'chipotle', 'Catawba', 'sweet_potato', 'oatcake', 'store_cheese', 'buttercrunch', 'papaw', 'Thompson_Seedless', 'roast', 'leg', 'bluefish', 'Shawnee_cake', 'vermicelli', 'plum', 'French_loaf', 'savarin', 'red_meat', 'amarelle', 'lake_herring', 'cocoa_butter', 'Berlin_doughnut', 'battercake', 'dodger', 'sausage', 'hallah', 'blue_crab', 'sweet_cup', 'ash_cake', 'red_pepper', 'biscuit', 'codfish', 'English_sole', \"dragon's_eye\", 'pineapple_guava', 'red_cabbage', 'civet_bean', 'marble_cake', 'pork_roast', 'flatbrod', 'damson', \"Lane's_Prince_Albert\", 'wildfowl', 'lambchop', 'gorgonzola', 'breast_of_lamb', 'prune_cake', 'striper', 'lingcod', 'cruller', 'Emmenthaler', 'cinnamon_roll', 'Sally_Lunn', 'rump', 'Alaska_king_crab', 'chop_steak', 'serviceberry', 'pilot_biscuit', 'black_pudding', 'jerked_meat', 'common_sorrel', 'cornpone', 'pork_loin', 'saltine', 'side', 'shallot', 'capulin', 'artichoke', 'aitchbone', 'shell_bean', \"lamb's-quarter\", 'dessert_apple', 'caviar', 'mulberry', 'coho', 'spoon_bread', 'vegetable_oyster', 'salmon_loaf', 'ugli', 'frankfurter_bun', 'crescent_roll', 'currant', 'turkey', 'hushpuppy', 'banana_bread', 'bream', 'Canadian_bacon', 'offal', 'vegetable', 'dahl', 'Brussels_biscuit', 'fry_bread', 'winter_cress', 'lamb', 'coffeecake', 'Vidalia_onion', 'sour_orange', 'sour_gourd', 'hen', 'brook_trout', 'scrapple', 'cut', 'quantong', 'cottage_cheese', 'pilot_bread', 'pea_bean', 'tomatillo', 'snow_pea', 'savoy_cabbage', 'bread', 'sweetbread', 'kiss', 'pandowdy', 'hasty_pudding', 'key_lime', 'corn_cake', 'ketembilla', 'rigatoni', 'blini', 'beetroot', 'knockwurst', \"pigs'_feet\", 'side_of_beef', 'rambutan', 'Mexican_black_cherry', 'dried_fruit', 'brisling', 'spice_cookie', 'okra', 'shin_bone', 'bloater', 'bell_pepper', 'delicatessen', 'bread-stick', 'mudcat', 'cheesecake', 'souse', 'caraway_seed_bread', 'curly_endive', 'coffee_roll', 'winter_crookneck_squash', 'whole_meal_bread', 'black_salsify', 'icaco', 'bonito', 'hot_pepper', 'grated_cheese', 'roe', 'grits', 'jack', 'Persian_melon', 'jalapeno_pepper', 'cusk', 'oxheart', 'baguet', 'sucker', 'mutton_chop', 'radish', 'noodle', 'iceberg', 'Nova_Scotia_lox', 'gherkin', 'standing_rib_roast', 'journey_cake', 'Japanese_plum', 'Spanish_mackerel', 'applesauce_cake', 'kai_apple', 'plantain', 'boxberry', 'clam', 'cockle', 'brioche', 'crawfish', 'Victoria_plum', 'bap', 'smoked_eel', 'pretzel', 'Mexican_husk_tomato', 'forequarter', \"calf's_brain\", 'schnecken', 'twister', 'largemouth_bass', 'Brie', 'salt_pork', 'hackberry', 'spaghetti_squash', 'cowberry', 'aguacate', 'red_onion', 'leftovers', 'process_cheese', 'salad_greens', 'brandysnap', 'white_turnip', \"calf's_tongue\", 'butterhead_lettuce', 'triple_cream', 'Spanish_lime', 'earthnut', 'kasha', 'crayfish', 'Toll_House_cookie', 'almond_crescent', 'sugar_snap_pea', 'navel_orange', 'seckel_pear', 'pasty', 'mammee_apple', 'polenta', 'Newtown_Wonder', 'Baldwin', 'challah', 'linguica', 'alewife', 'ghee', 'banger', 'green_pea', 'brownie_mix', 'parsnip', 'bluefin_tuna', 'iceberg_lettuce', 'banana', 'chou', 'Rock_Cornish_hen', 'butter', 'flame_tokay', 'fryer', 'steamer_clam', 'American_lobster', 'Stayman_Winesap', 'ceriman', 'oysters_Rockefeller', 'rhubarb', 'fruitcake', 'pomelo', 'roast_lamb', 'puff', 'sieva_bean', 'winter_squash', 'vegetable_marrow', 'shortcake', 'fritter', 'bay_scallop', 'dumplings', 'pieplant', 'jelly_doughnut', 'Victoria_sponge', 'hotdog', 'finocchio', 'blackberry', 'slop', 'dry_cereal', 'cayenne_pepper', 'squid', 'frier', 'salt_cod', 'nonpareil', 'cinnamon_bun', 'scup', 'Parker_House_roll', 'oyster_plant', 'pulasan', 'sausage_meat', 'squab', 'sticky_bun', 'root_vegetable', 'mullet', 'oreo', 'hush_puppy', 'steak_and_kidney_pie', 'knackwurst', 'blueberry_pie', 'sailfish', 'lima_bean', 'beef_roast', 'berry', 'eater', 'wedge_bone', 'turban_squash', 'torte', 'angel_cake', 'neck', 'granola_bar', 'heart_cherry', 'navy_bean', 'sugar_apple', 'chile', 'salad_burnet', 'medlar', 'jambon', 'wax_bean', 'brat', 'McIntosh', 'cos_lettuce', 'staff_of_life', 'beef_jerky', 'winkle', 'hotdog_bun', 'mascarpone', 'Eccles_cake', 'hard-shell_clam', 'cinnamon_bread', 'chopsteak', 'breadfruit', 'rump_steak']\n"
     ]
    }
   ],
   "source": [
    "from nltk.corpus import wordnet as wn\n",
    "food = wn.synset('food.n.02')\n",
    "food_words=list(set([w for s in food.closure(lambda s:s.hyponyms()) for w in s.lemma_names()]))\n",
    "\n",
    "print(food_words)"
   ]
  },
  {
   "cell_type": "code",
   "execution_count": 73,
   "metadata": {},
   "outputs": [
    {
     "name": "stderr",
     "output_type": "stream",
     "text": [
      "C:\\Users\\Zeeshan Khan\\Anaconda3\\lib\\site-packages\\ipykernel_launcher.py:10: SettingWithCopyWarning: \n",
      "A value is trying to be set on a copy of a slice from a DataFrame\n",
      "\n",
      "See the caveats in the documentation: http://pandas.pydata.org/pandas-docs/stable/indexing.html#indexing-view-versus-copy\n",
      "  # Remove the CWD from sys.path while we load stuff.\n"
     ]
    }
   ],
   "source": [
    "import re\n",
    "data['food_count'] =1\n",
    "for f in range(a):\n",
    "    count=0\n",
    "    words=re.split('\\s+',data.review[f])\n",
    "    for x in words:\n",
    "          for food_word in food_words:\n",
    "                if x==food_word:\n",
    "                    count=count+1\n",
    "    data.food_count[f]=count"
   ]
  },
  {
   "cell_type": "code",
   "execution_count": 74,
   "metadata": {},
   "outputs": [
    {
     "data": {
      "text/html": [
       "<div>\n",
       "<style scoped>\n",
       "    .dataframe tbody tr th:only-of-type {\n",
       "        vertical-align: middle;\n",
       "    }\n",
       "\n",
       "    .dataframe tbody tr th {\n",
       "        vertical-align: top;\n",
       "    }\n",
       "\n",
       "    .dataframe thead th {\n",
       "        text-align: right;\n",
       "    }\n",
       "</style>\n",
       "<table border=\"1\" class=\"dataframe\">\n",
       "  <thead>\n",
       "    <tr style=\"text-align: right;\">\n",
       "      <th></th>\n",
       "      <th>review</th>\n",
       "      <th>rating</th>\n",
       "      <th>positive</th>\n",
       "      <th>food_count</th>\n",
       "    </tr>\n",
       "  </thead>\n",
       "  <tbody>\n",
       "    <tr>\n",
       "      <th>0</th>\n",
       "      <td>loved itfriendly server great food wonderful i...</td>\n",
       "      <td>1</td>\n",
       "      <td>4</td>\n",
       "      <td>0</td>\n",
       "    </tr>\n",
       "    <tr>\n",
       "      <th>1</th>\n",
       "      <td>heart attack grill downtown vega absolutely fl...</td>\n",
       "      <td>0</td>\n",
       "      <td>0</td>\n",
       "      <td>1</td>\n",
       "    </tr>\n",
       "    <tr>\n",
       "      <th>2</th>\n",
       "      <td>much seafood like string pasta bottom</td>\n",
       "      <td>0</td>\n",
       "      <td>1</td>\n",
       "      <td>2</td>\n",
       "    </tr>\n",
       "    <tr>\n",
       "      <th>3</th>\n",
       "      <td>salad right amount sauce power scallop perfect...</td>\n",
       "      <td>1</td>\n",
       "      <td>2</td>\n",
       "      <td>1</td>\n",
       "    </tr>\n",
       "    <tr>\n",
       "      <th>4</th>\n",
       "      <td>ripped banana ripped petrified tasteless</td>\n",
       "      <td>0</td>\n",
       "      <td>0</td>\n",
       "      <td>1</td>\n",
       "    </tr>\n",
       "    <tr>\n",
       "      <th>5</th>\n",
       "      <td>least think refill water struggle wave minute</td>\n",
       "      <td>0</td>\n",
       "      <td>0</td>\n",
       "      <td>0</td>\n",
       "    </tr>\n",
       "    <tr>\n",
       "      <th>6</th>\n",
       "      <td>place receives star appetizer</td>\n",
       "      <td>1</td>\n",
       "      <td>0</td>\n",
       "      <td>0</td>\n",
       "    </tr>\n",
       "    <tr>\n",
       "      <th>7</th>\n",
       "      <td>cocktail handmade delicious</td>\n",
       "      <td>1</td>\n",
       "      <td>1</td>\n",
       "      <td>0</td>\n",
       "    </tr>\n",
       "    <tr>\n",
       "      <th>8</th>\n",
       "      <td>wed definitely go back</td>\n",
       "      <td>1</td>\n",
       "      <td>0</td>\n",
       "      <td>0</td>\n",
       "    </tr>\n",
       "    <tr>\n",
       "      <th>9</th>\n",
       "      <td>glad found place</td>\n",
       "      <td>1</td>\n",
       "      <td>1</td>\n",
       "      <td>0</td>\n",
       "    </tr>\n",
       "    <tr>\n",
       "      <th>10</th>\n",
       "      <td>great food service huge portion give military ...</td>\n",
       "      <td>1</td>\n",
       "      <td>1</td>\n",
       "      <td>0</td>\n",
       "    </tr>\n",
       "    <tr>\n",
       "      <th>11</th>\n",
       "      <td>always great time do gringo</td>\n",
       "      <td>1</td>\n",
       "      <td>1</td>\n",
       "      <td>0</td>\n",
       "    </tr>\n",
       "    <tr>\n",
       "      <th>12</th>\n",
       "      <td>updatewent back second time still amazing</td>\n",
       "      <td>1</td>\n",
       "      <td>1</td>\n",
       "      <td>0</td>\n",
       "    </tr>\n",
       "    <tr>\n",
       "      <th>13</th>\n",
       "      <td>got food apparently never heard salt batter fi...</td>\n",
       "      <td>0</td>\n",
       "      <td>0</td>\n",
       "      <td>1</td>\n",
       "    </tr>\n",
       "    <tr>\n",
       "      <th>14</th>\n",
       "      <td>great way finish great</td>\n",
       "      <td>1</td>\n",
       "      <td>2</td>\n",
       "      <td>0</td>\n",
       "    </tr>\n",
       "    <tr>\n",
       "      <th>15</th>\n",
       "      <td>deal included tasting drink jeff went beyond e...</td>\n",
       "      <td>1</td>\n",
       "      <td>0</td>\n",
       "      <td>0</td>\n",
       "    </tr>\n",
       "    <tr>\n",
       "      <th>16</th>\n",
       "      <td>really really good rice time</td>\n",
       "      <td>1</td>\n",
       "      <td>1</td>\n",
       "      <td>0</td>\n",
       "    </tr>\n",
       "    <tr>\n",
       "      <th>17</th>\n",
       "      <td>service meh</td>\n",
       "      <td>0</td>\n",
       "      <td>0</td>\n",
       "      <td>0</td>\n",
       "    </tr>\n",
       "    <tr>\n",
       "      <th>18</th>\n",
       "      <td>took min get milkshake nothing chocolate milk</td>\n",
       "      <td>0</td>\n",
       "      <td>0</td>\n",
       "      <td>1</td>\n",
       "    </tr>\n",
       "    <tr>\n",
       "      <th>19</th>\n",
       "      <td>guess known place would suck inside excalibur ...</td>\n",
       "      <td>0</td>\n",
       "      <td>0</td>\n",
       "      <td>0</td>\n",
       "    </tr>\n",
       "  </tbody>\n",
       "</table>\n",
       "</div>"
      ],
      "text/plain": [
       "                                               review rating  positive  \\\n",
       "0   loved itfriendly server great food wonderful i...      1         4   \n",
       "1   heart attack grill downtown vega absolutely fl...      0         0   \n",
       "2               much seafood like string pasta bottom      0         1   \n",
       "3   salad right amount sauce power scallop perfect...      1         2   \n",
       "4            ripped banana ripped petrified tasteless      0         0   \n",
       "5       least think refill water struggle wave minute      0         0   \n",
       "6                       place receives star appetizer      1         0   \n",
       "7                         cocktail handmade delicious      1         1   \n",
       "8                              wed definitely go back      1         0   \n",
       "9                                    glad found place      1         1   \n",
       "10  great food service huge portion give military ...      1         1   \n",
       "11                        always great time do gringo      1         1   \n",
       "12          updatewent back second time still amazing      1         1   \n",
       "13  got food apparently never heard salt batter fi...      0         0   \n",
       "14                             great way finish great      1         2   \n",
       "15  deal included tasting drink jeff went beyond e...      1         0   \n",
       "16                       really really good rice time      1         1   \n",
       "17                                        service meh      0         0   \n",
       "18      took min get milkshake nothing chocolate milk      0         0   \n",
       "19  guess known place would suck inside excalibur ...      0         0   \n",
       "\n",
       "    food_count  \n",
       "0            0  \n",
       "1            1  \n",
       "2            2  \n",
       "3            1  \n",
       "4            1  \n",
       "5            0  \n",
       "6            0  \n",
       "7            0  \n",
       "8            0  \n",
       "9            0  \n",
       "10           0  \n",
       "11           0  \n",
       "12           0  \n",
       "13           1  \n",
       "14           0  \n",
       "15           0  \n",
       "16           0  \n",
       "17           0  \n",
       "18           1  \n",
       "19           0  "
      ]
     },
     "execution_count": 74,
     "metadata": {},
     "output_type": "execute_result"
    }
   ],
   "source": [
    "data.head(20)"
   ]
  },
  {
   "cell_type": "code",
   "execution_count": 75,
   "metadata": {},
   "outputs": [
    {
     "name": "stdout",
     "output_type": "stream",
     "text": [
      "[(4, 0), (0, 1), (1, 2), (2, 1), (0, 1), (0, 0), (0, 0), (1, 0), (0, 0), (1, 0), (1, 0), (1, 0), (1, 0), (0, 1), (2, 0), (0, 0), (1, 0), (0, 0), (0, 1), (0, 0), (1, 1), (0, 0), (4, 1), (2, 0), (1, 0), (1, 0), (1, 0), (0, 3), (0, 0), (1, 1), (1, 1), (1, 2), (1, 0), (0, 0), (2, 0), (0, 0), (3, 0), (0, 0), (1, 0), (0, 0), (1, 0), (0, 0), (0, 0), (1, 0), (1, 1), (2, 2), (2, 0), (1, 0), (3, 3), (1, 0), (1, 0), (3, 0), (1, 0), (0, 0), (1, 0), (3, 0), (0, 0), (2, 0), (2, 0), (1, 0), (0, 0), (1, 0), (1, 0), (0, 1), (1, 0), (0, 0), (0, 0), (2, 0), (3, 4), (1, 0), (1, 0), (1, 0), (1, 0), (0, 0), (1, 1), (0, 0), (1, 1), (1, 3), (0, 0), (2, 3), (2, 0), (1, 0), (1, 0), (1, 0), (1, 0), (0, 0), (2, 0), (0, 0), (0, 0), (3, 0), (2, 0), (0, 0), (0, 0), (0, 0), (0, 0), (1, 0), (1, 0), (0, 0), (0, 0), (1, 0)]\n"
     ]
    }
   ],
   "source": [
    "point=[]\n",
    "no_point=100\n",
    "for i in range(no_point):\n",
    "    point.append((data.positive[i],data.food_count[i]))\n",
    "    \n",
    "    \n",
    "print(point)"
   ]
  },
  {
   "cell_type": "code",
   "execution_count": 77,
   "metadata": {},
   "outputs": [],
   "source": [
    "import matplotlib.pyplot as plt"
   ]
  },
  {
   "cell_type": "code",
   "execution_count": 78,
   "metadata": {},
   "outputs": [],
   "source": [
    "import math\n",
    "def distance(point1,point2):\n",
    "    dist=math.sqrt(((point2[1]-point1[1])**2) + ((point2[0]-point1[0])**2))\n",
    "    return dist"
   ]
  },
  {
   "cell_type": "code",
   "execution_count": 79,
   "metadata": {},
   "outputs": [],
   "source": [
    "def func(clas):\n",
    "    temx=0\n",
    "    temy=0\n",
    "    for i in range(len(clas)):\n",
    "        temx+=clas[i][0]\n",
    "        temy+=clas[i][1]\n",
    "    temx=temx/len(clas)\n",
    "    temy=temy/len(clas)\n",
    "    return temx,temy"
   ]
  },
  {
   "cell_type": "code",
   "execution_count": 80,
   "metadata": {},
   "outputs": [
    {
     "name": "stdout",
     "output_type": "stream",
     "text": [
      "2.5 0.0625 0.52 0.14666666666666667 1.6666666666666667 2.5555555555555554\n",
      "2.4705882352941178 0.11764705882352941 0.52 0.14666666666666667 1.625 2.75\n",
      "2.4705882352941178 0.11764705882352941 0.52 0.14666666666666667 1.625 2.75\n"
     ]
    }
   ],
   "source": [
    "t1=[]\n",
    "t1.append(point[0])\n",
    "temp1=0\n",
    "\n",
    "t2=[]\n",
    "t2.append(point[1])\n",
    "temp2=1\n",
    "\n",
    "t3=[]\n",
    "t3.append(point[2])\n",
    "temp3=2\n",
    "\n",
    "class1=[]\n",
    "class2=[]\n",
    "class3=[]\n",
    "\n",
    "for j in range(10000):\n",
    "    del class1[:]\n",
    "    del class2[:]\n",
    "    del class3[:]\n",
    "    for i in range(no_point):\n",
    "        l1=distance(point[i],t1[0])\n",
    "        l2=distance(point[i],t2[0])\n",
    "        l3=distance(point[i],t3[0])\n",
    "        if(l1==min(l1,l2,l3)):\n",
    "            class1.append((point[i]))\n",
    "        elif(l2==min(l1,l2,l3)):\n",
    "            class2.append((point[i]))\n",
    "        else:\n",
    "            class3.append((point[i]))\n",
    "    tempx=0\n",
    "    tempy=0\n",
    "    tempx1=0\n",
    "    tempy1=0\n",
    "    tempy2=0\n",
    "    tempy2=0\n",
    "    \n",
    "\n",
    "    tempx,tempy=func(class1)\n",
    "    tempx1,tempy1=func(class2)\n",
    "    tempx2,tempy2=func(class3)\n",
    "    \n",
    "    print(tempx,tempy,tempx1,tempy1,tempx2,tempy2)\n",
    "    \n",
    "    if tempx==t1[0][0] and tempy==t1[0][1] and tempx1==t2[0][0] and tempy1==t2[0][1] and tempx2==t3[0][0] and tempy2==t3[0][1]:\n",
    "        break\n",
    "    else:\n",
    "        del t1[:]\n",
    "        t1.append((tempx,tempy))\n",
    "        del t2[:]\n",
    "        t2.append((tempx1,tempy1))\n",
    "        del t3[:]\n",
    "        t3.append((tempx2,tempy2))\n",
    "        \n"
   ]
  },
  {
   "cell_type": "code",
   "execution_count": 81,
   "metadata": {},
   "outputs": [
    {
     "name": "stdout",
     "output_type": "stream",
     "text": [
      "[(4, 0), (2, 1), (2, 0), (4, 1), (2, 0), (2, 0), (3, 0), (2, 0), (3, 0), (3, 0), (2, 0), (2, 0), (2, 0), (2, 0), (2, 0), (3, 0), (2, 0)]\n",
      "[(0, 1), (0, 1), (0, 0), (0, 0), (1, 0), (0, 0), (1, 0), (1, 0), (1, 0), (1, 0), (0, 1), (0, 0), (1, 0), (0, 0), (0, 1), (0, 0), (1, 1), (0, 0), (1, 0), (1, 0), (1, 0), (0, 0), (1, 1), (1, 1), (1, 0), (0, 0), (0, 0), (0, 0), (1, 0), (0, 0), (1, 0), (0, 0), (0, 0), (1, 0), (1, 1), (1, 0), (1, 0), (1, 0), (1, 0), (0, 0), (1, 0), (0, 0), (1, 0), (0, 0), (1, 0), (1, 0), (0, 1), (1, 0), (0, 0), (0, 0), (1, 0), (1, 0), (1, 0), (1, 0), (0, 0), (1, 1), (0, 0), (1, 1), (0, 0), (1, 0), (1, 0), (1, 0), (1, 0), (0, 0), (0, 0), (0, 0), (0, 0), (0, 0), (0, 0), (0, 0), (1, 0), (1, 0), (0, 0), (0, 0), (1, 0)]\n",
      "[(1, 2), (0, 3), (1, 2), (2, 2), (3, 3), (3, 4), (1, 3), (2, 3)]\n"
     ]
    }
   ],
   "source": [
    "print(class1)\n",
    "print(class2)\n",
    "print(class3)"
   ]
  },
  {
   "cell_type": "code",
   "execution_count": 82,
   "metadata": {},
   "outputs": [
    {
     "data": {
      "text/plain": [
       "[<matplotlib.lines.Line2D at 0x1d7af8e6828>,\n",
       " <matplotlib.lines.Line2D at 0x1d7af557470>,\n",
       " <matplotlib.lines.Line2D at 0x1d7af900128>]"
      ]
     },
     "execution_count": 82,
     "metadata": {},
     "output_type": "execute_result"
    },
    {
     "data": {
      "image/png": "[encoded data removed]",
      "text/plain": [
       "<Figure size 432x288 with 1 Axes>"
      ]
     },
     "metadata": {
      "needs_background": "light"
     },
     "output_type": "display_data"
    }
   ],
   "source": [
    "for i in range(len(class1)):\n",
    "    plt.scatter(class1[i][0],class1[i][1],color='r')\n",
    "for i in range(len(class2)):\n",
    "    plt.scatter(class2[i][0],class2[i][1],color='b')\n",
    "for i in range(len(class3)):\n",
    "    plt.scatter(class3[i][0],class3[i][1],color='g')\n",
    "plt.plot(t1[0][0],t1[0][1],'r^',t2[0][0],t2[0][1],'b^',t3[0][0],t3[0][1],'g^')"
   ]
  }
 ],
 "metadata": {
  "kernelspec": {
   "display_name": "Python 3",
   "language": "python",
   "name": "python3"
  },
  "language_info": {
   "codemirror_mode": {
    "name": "ipython",
    "version": 3
   },
   "file_extension": ".py",
   "mimetype": "text/x-python",
   "name": "python",
   "nbconvert_exporter": "python",
   "pygments_lexer": "ipython3",
   "version": "3.7.0"
  }
 },
 "nbformat": 4,
 "nbformat_minor": 2
}
